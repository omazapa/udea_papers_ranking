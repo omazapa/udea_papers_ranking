{
 "cells": [
  {
   "cell_type": "code",
   "execution_count": 50,
   "id": "03716523-cdfe-49b3-ac89-06d66e6e7ddc",
   "metadata": {},
   "outputs": [],
   "source": [
    "import requests\n",
    "from IPython.display import display, HTML, JSON\n",
    "from pymongo import MongoClient\n",
    "import time\n",
    "import pandas as pd"
   ]
  },
  {
   "cell_type": "code",
   "execution_count": 44,
   "id": "318659cf-c945-469d-991c-38d5c44fbfd2",
   "metadata": {},
   "outputs": [],
   "source": [
    "db = MongoClient()[\"openalex_udea\"]\n",
    "col = db[\"works\"]\n",
    "col.drop()"
   ]
  },
  {
   "cell_type": "code",
   "execution_count": 45,
   "id": "530702c2-22c2-498a-8660-3271a685670f",
   "metadata": {},
   "outputs": [],
   "source": [
    "url=\"https://api.openalex.org/works?filter=authorships.institutions.lineage:I35961687,publication_year:2013-2023&per-page=100&cursor={}\""
   ]
  },
  {
   "cell_type": "code",
   "execution_count": null,
   "id": "b197c7d4-911c-45fc-8807-79a79e6bf6c7",
   "metadata": {},
   "outputs": [],
   "source": [
    "done = False\n",
    "next_cursor = \"*\"\n",
    "counter = 0\n",
    "while next_cursor :\n",
    "    req=requests.get(url.format(next_cursor))\n",
    "    if req.status_code == 200:\n",
    "        data = req.json()\n",
    "        if len(data[\"results\"]) ==0:\n",
    "            break\n",
    "        col.insert_many(data[\"results\"])\n",
    "        next_cursor=data['meta']['next_cursor']\n",
    "        counter+=1\n",
    "        if counter%10 == 0:\n",
    "            print(next_cursor)\n",
    "            print(f\"{counter*100} de {data['meta']['count']}\")\n",
    "        time.sleep(0.1)\n",
    "    else:\n",
    "        print(req)\n",
    "        break\n",
    "        "
   ]
  },
  {
   "cell_type": "code",
   "execution_count": null,
   "id": "4d43ba17-9cad-49a1-a9ef-0219fd9f1c18",
   "metadata": {},
   "outputs": [],
   "source": [
    "JSON(data[\"results\"][0])"
   ]
  },
  {
   "cell_type": "code",
   "execution_count": null,
   "id": "9e170984-f4b2-4802-8a7e-89673e26e72b",
   "metadata": {},
   "outputs": [],
   "source": [
    "%%bash\n",
    "wget -O scimago_2013.csv \"https://www.scimagojr.com/journalrank.php?year=2013&type=all&out=xls\"\n",
    "wget -O scimago_2014.csv \"https://www.scimagojr.com/journalrank.php?year=2014&type=all&out=xls\"\n",
    "wget -O scimago_2015.csv \"https://www.scimagojr.com/journalrank.php?year=2015&type=all&out=xls\"\n",
    "wget -O scimago_2016.csv \"https://www.scimagojr.com/journalrank.php?year=2016&type=all&out=xls\"\n",
    "wget -O scimago_2017.csv \"https://www.scimagojr.com/journalrank.php?year=2017&type=all&out=xls\"\n",
    "wget -O scimago_2018.csv \"https://www.scimagojr.com/journalrank.php?year=2018&type=all&out=xls\"\n",
    "wget -O scimago_2019.csv \"https://www.scimagojr.com/journalrank.php?year=2019&type=all&out=xls\"\n",
    "wget -O scimago_2020.csv \"https://www.scimagojr.com/journalrank.php?year=2020&type=all&out=xls\"\n",
    "wget -O scimago_2021.csv \"https://www.scimagojr.com/journalrank.php?year=2021&type=all&out=xls\"\n",
    "wget -O scimago_2022.csv \"https://www.scimagojr.com/journalrank.php?year=2022&type=all&out=xls\"\n",
    "wget -O scimago_2023.csv \"https://www.scimagojr.com/journalrank.php?year=2023&type=all&out=xls\""
   ]
  },
  {
   "cell_type": "code",
   "execution_count": 48,
   "id": "f53e739e-8ad5-4628-8a7e-1998e3d8bb1b",
   "metadata": {},
   "outputs": [],
   "source": [
    "db = MongoClient()[\"scimago\"]\n",
    "col = db[\"stage\"]"
   ]
  },
  {
   "cell_type": "code",
   "execution_count": 51,
   "id": "f9f891e9-1bb8-47be-b6a9-77aae5acdc67",
   "metadata": {},
   "outputs": [
    {
     "name": "stderr",
     "output_type": "stream",
     "text": [
      "/tmp/ipykernel_7727/1203576923.py:2: DtypeWarning: Columns (5) have mixed types. Specify dtype option on import or set low_memory=False.\n",
      "  data = pd.read_csv(f\"./scimago_{year}.csv\",sep=\";\")\n",
      "/tmp/ipykernel_7727/1203576923.py:2: DtypeWarning: Columns (5) have mixed types. Specify dtype option on import or set low_memory=False.\n",
      "  data = pd.read_csv(f\"./scimago_{year}.csv\",sep=\";\")\n",
      "/tmp/ipykernel_7727/1203576923.py:2: DtypeWarning: Columns (5) have mixed types. Specify dtype option on import or set low_memory=False.\n",
      "  data = pd.read_csv(f\"./scimago_{year}.csv\",sep=\";\")\n",
      "/tmp/ipykernel_7727/1203576923.py:2: DtypeWarning: Columns (5) have mixed types. Specify dtype option on import or set low_memory=False.\n",
      "  data = pd.read_csv(f\"./scimago_{year}.csv\",sep=\";\")\n",
      "/tmp/ipykernel_7727/1203576923.py:2: DtypeWarning: Columns (5) have mixed types. Specify dtype option on import or set low_memory=False.\n",
      "  data = pd.read_csv(f\"./scimago_{year}.csv\",sep=\";\")\n",
      "/tmp/ipykernel_7727/1203576923.py:2: DtypeWarning: Columns (5) have mixed types. Specify dtype option on import or set low_memory=False.\n",
      "  data = pd.read_csv(f\"./scimago_{year}.csv\",sep=\";\")\n",
      "/tmp/ipykernel_7727/1203576923.py:2: DtypeWarning: Columns (5) have mixed types. Specify dtype option on import or set low_memory=False.\n",
      "  data = pd.read_csv(f\"./scimago_{year}.csv\",sep=\";\")\n"
     ]
    }
   ],
   "source": [
    "for year in range(2013,2024):\n",
    "    data = pd.read_csv(f\"./scimago_{year}.csv\",sep=\";\")\n",
    "    records=[]\n",
    "    for i in data[[\"H index\",\"Issn\",\"SJR Best Quartile\",\"Title\",\"Sourceid\"]].index:\n",
    "        rec={\"year\":year}\n",
    "        rec[\"H index\"] = int(data[\"H index\"][i])\n",
    "        issn=[]\n",
    "        for value in data[\"Issn\"][i].split(\",\"):\n",
    "            issn.append(value.strip())\n",
    "        rec[\"Issn\"] = issn \n",
    "        rec[\"SJR Best Quartile\"] = data[\"SJR Best Quartile\"][i]\n",
    "        rec[\"Title\"] = data[\"Title\"][i]\n",
    "        rec[\"Sourceid\"] = str(data[\"Sourceid\"][i])\n",
    "        records.append(rec)\n",
    "    col.insert_many(records)"
   ]
  },
  {
   "cell_type": "code",
   "execution_count": null,
   "id": "12d1ddcd-320d-48ba-8e6c-0d29877cd7e5",
   "metadata": {},
   "outputs": [],
   "source": []
  }
 ],
 "metadata": {
  "kernelspec": {
   "display_name": "Python 3 (ipykernel)",
   "language": "python",
   "name": "python3"
  },
  "language_info": {
   "codemirror_mode": {
    "name": "ipython",
    "version": 3
   },
   "file_extension": ".py",
   "mimetype": "text/x-python",
   "name": "python",
   "nbconvert_exporter": "python",
   "pygments_lexer": "ipython3",
   "version": "3.11.6"
  }
 },
 "nbformat": 4,
 "nbformat_minor": 5
}
